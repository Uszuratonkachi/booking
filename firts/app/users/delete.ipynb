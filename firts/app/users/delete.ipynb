{
 "cells": [
  {
   "cell_type": "code",
   "id": "initial_id",
   "metadata": {
    "collapsed": true,
    "ExecuteTime": {
     "end_time": "2024-10-02T11:11:11.638999Z",
     "start_time": "2024-10-02T11:11:11.582877Z"
    }
   },
   "source": [
    "from passlib.context import CryptContext\n",
    "\n",
    "pwd_context = CryptContext(schemes=[\"bcrypt\"], deprecated=\"auto\")\n",
    "\n",
    "def get_password_hash(password: str) -> str:  # Добавлено str как возвращаемое значение\n",
    "    return pwd_context.hash(password)\n",
    "\n",
    "def verify_password(plain_password: str, hashed_password: str) -> bool:\n",
    "    return pwd_context.verify(plain_password, hashed_password)"
   ],
   "outputs": [],
   "execution_count": 2
  },
  {
   "metadata": {
    "ExecuteTime": {
     "end_time": "2024-10-02T11:11:13.985468Z",
     "start_time": "2024-10-02T11:11:13.712412Z"
    }
   },
   "cell_type": "code",
   "source": "get_password_hash(\"programmist\")\n",
   "id": "a6c31b8a95303e27",
   "outputs": [
    {
     "data": {
      "text/plain": [
       "'$2b$12$0GWyIXh.NVhlnMsz09WBG.YAgRe0vbI7ZRnSGyRRHMI0.TuxGSKI6'"
      ]
     },
     "execution_count": 3,
     "metadata": {},
     "output_type": "execute_result"
    }
   ],
   "execution_count": 3
  },
  {
   "metadata": {
    "ExecuteTime": {
     "end_time": "2024-10-02T11:12:07.099211Z",
     "start_time": "2024-10-02T11:12:06.864193Z"
    }
   },
   "cell_type": "code",
   "source": [
    "hashed_password = '$2b$12$1OxlrD/XteUOkB5.MKzAKuSgUejOh1mW9/MBqx4.2k00KUdomxM9e'\n",
    "verify_password(\"programmist\", hashed_password)"
   ],
   "id": "596a61a3c39f36cf",
   "outputs": [
    {
     "data": {
      "text/plain": [
       "True"
      ]
     },
     "execution_count": 4,
     "metadata": {},
     "output_type": "execute_result"
    }
   ],
   "execution_count": 4
  },
  {
   "metadata": {
    "ExecuteTime": {
     "end_time": "2024-10-02T11:21:38.151321Z",
     "start_time": "2024-10-02T11:21:37.967756Z"
    }
   },
   "cell_type": "code",
   "source": [
    "from jose import jwt\n",
    "from datetime import datetime, timedelta, UTC\n",
    "\n",
    "\n",
    "def create_access_token(data: dict) ->str:\n",
    "    to_encode = data.copy()\n",
    "    expire = datetime.now(UTC) + timedelta(minutes=30)\n",
    "    to_encode.update({\"exp\": expire})\n",
    "    encoded_jwt = jwt.encode(\n",
    "        to_encode, \"asuahfkjefefwaFFWAessrgdrtgerfe6f4e86f5re8ger\", \"HS256\"\n",
    "    )\n",
    "    return to_encode"
   ],
   "id": "92a62fb466c592d1",
   "outputs": [],
   "execution_count": 6
  },
  {
   "metadata": {
    "ExecuteTime": {
     "end_time": "2024-10-02T11:21:40.411607Z",
     "start_time": "2024-10-02T11:21:40.401679Z"
    }
   },
   "cell_type": "code",
   "source": "create_access_token({\"user\": \"Temirlan\"}) ",
   "id": "e66802ddac7003c9",
   "outputs": [
    {
     "data": {
      "text/plain": [
       "{'user': 'Temirlan',\n",
       " 'exp': datetime.datetime(2024, 10, 2, 11, 51, 40, 406229, tzinfo=datetime.timezone.utc)}"
      ]
     },
     "execution_count": 7,
     "metadata": {},
     "output_type": "execute_result"
    }
   ],
   "execution_count": 7
  }
 ],
 "metadata": {
  "kernelspec": {
   "display_name": "Python 3",
   "language": "python",
   "name": "python3"
  },
  "language_info": {
   "codemirror_mode": {
    "name": "ipython",
    "version": 2
   },
   "file_extension": ".py",
   "mimetype": "text/x-python",
   "name": "python",
   "nbconvert_exporter": "python",
   "pygments_lexer": "ipython2",
   "version": "2.7.6"
  }
 },
 "nbformat": 4,
 "nbformat_minor": 5
}
